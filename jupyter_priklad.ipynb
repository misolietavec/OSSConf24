{
 "cells": [
  {
   "cell_type": "markdown",
   "id": "25b02626-f1a7-4c3b-9007-b399962afda3",
   "metadata": {
    "editable": true,
    "slideshow": {
     "slide_type": ""
    },
    "tags": []
   },
   "source": [
    "### V Jupyter(lab) notebooku jednotlivé bunky \"nevedia o sebe\". Ukážeme na malých príkladoch."
   ]
  },
  {
   "cell_type": "code",
   "execution_count": null,
   "id": "67feb8b0-df41-4399-b0c2-01cbaf8a1d39",
   "metadata": {
    "editable": true,
    "slideshow": {
     "slide_type": "fragment"
    },
    "tags": []
   },
   "outputs": [],
   "source": [
    "# Importujeme modul ipywidgets - obsahuje grafické prvky (posuvníky, menu, tlačidlá, atď.)\n",
    "\n",
    "import ipywidgets as ipw"
   ]
  },
  {
   "cell_type": "code",
   "execution_count": null,
   "id": "616babff-1ff0-4b87-9b41-41fd034ef6be",
   "metadata": {
    "editable": true,
    "slideshow": {
     "slide_type": "slide"
    },
    "tags": []
   },
   "outputs": [],
   "source": [
    "x = 1  # zmenme x tu, napr. x = 2, alebo nedajboh aj zrusme bunku\n",
    "x"
   ]
  },
  {
   "cell_type": "code",
   "execution_count": null,
   "id": "d802f5be-9f46-47dd-b043-7ad65929f032",
   "metadata": {
    "editable": true,
    "slideshow": {
     "slide_type": "fragment"
    },
    "tags": []
   },
   "outputs": [],
   "source": [
    "# Zmena sa v tejto bunke neprejaví, AK JU NEVYKONǍME\n",
    "y = x + 1\n",
    "y"
   ]
  },
  {
   "cell_type": "code",
   "execution_count": null,
   "id": "343512ef-2afd-45e8-9343-5434e80e7b43",
   "metadata": {
    "editable": true,
    "slideshow": {
     "slide_type": "slide"
    },
    "tags": []
   },
   "outputs": [],
   "source": [
    "mesiace = ipw.IntSlider(min=1, max=12)\n",
    "mesiace"
   ]
  },
  {
   "cell_type": "code",
   "execution_count": null,
   "id": "9e3a9f1d-6af7-488f-8993-cb057a2c7e3c",
   "metadata": {
    "editable": true,
    "slideshow": {
     "slide_type": "fragment"
    },
    "tags": []
   },
   "outputs": [],
   "source": [
    "# Zasa musíme bunku vykonať, aby sme zmenu hodnoty posuvníka videli\n",
    "mesiace.value"
   ]
  },
  {
   "cell_type": "markdown",
   "id": "a9e71a0d-ee77-413b-a064-d114efc4280c",
   "metadata": {
    "editable": true,
    "slideshow": {
     "slide_type": "slide"
    },
    "tags": []
   },
   "source": [
    "## Dalej nepokračujeme, bo to nepôjde jednoducho :-) To isté ukážeme v `marimo` notebooku."
   ]
  }
 ],
 "metadata": {
  "kernelspec": {
   "display_name": "Python 3 (ipykernel)",
   "language": "python",
   "name": "python3"
  },
  "language_info": {
   "codemirror_mode": {
    "name": "ipython",
    "version": 3
   },
   "file_extension": ".py",
   "mimetype": "text/x-python",
   "name": "python",
   "nbconvert_exporter": "python",
   "pygments_lexer": "ipython3",
   "version": "3.11.9"
  }
 },
 "nbformat": 4,
 "nbformat_minor": 5
}
