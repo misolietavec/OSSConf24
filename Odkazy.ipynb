{
 "cells": [
  {
   "cell_type": "markdown",
   "id": "8b208260-ce21-4681-a662-6ee236480392",
   "metadata": {
    "editable": true,
    "slideshow": {
     "slide_type": "slide"
    },
    "tags": []
   },
   "source": [
    "## Odkazy na použité nástroje\n",
    "- ### polars: https://pola.rs/\n",
    "- ### plotly: https://plotly.com/python/\n",
    "- ### marimo: https://docs.marimo.io/"
   ]
  },
  {
   "cell_type": "markdown",
   "id": "6d92d222-cd93-4587-8acb-5c2d0bbd436b",
   "metadata": {
    "editable": true,
    "slideshow": {
     "slide_type": "slide"
    },
    "tags": []
   },
   "source": [
    "## Odkaz na github, tento workshop:\n",
    "- ### https://github.com/misolietavec/OSSConf24\n",
    "\n",
    "## Odkaz na github, workshop (panel) na PyCon 2024:\n",
    "- ### https://github.com/misolietavec/DAworkshop24"
   ]
  }
 ],
 "metadata": {
  "kernelspec": {
   "display_name": "Python 3 (ipykernel)",
   "language": "python",
   "name": "python3"
  },
  "language_info": {
   "codemirror_mode": {
    "name": "ipython",
    "version": 3
   },
   "file_extension": ".py",
   "mimetype": "text/x-python",
   "name": "python",
   "nbconvert_exporter": "python",
   "pygments_lexer": "ipython3",
   "version": "3.11.9"
  }
 },
 "nbformat": 4,
 "nbformat_minor": 5
}
