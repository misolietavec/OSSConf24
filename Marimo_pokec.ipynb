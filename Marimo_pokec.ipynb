{
 "cells": [
  {
   "cell_type": "markdown",
   "id": "3cbca5b1-1653-45df-a6bb-2c717e235700",
   "metadata": {
    "editable": true,
    "slideshow": {
     "slide_type": ""
    },
    "tags": []
   },
   "source": [
    "### Veľa možností pre tvorbu a prezentáciu webových aplikácii v Pythone:\n",
    "- [plotly dash](https://dash.plotly.com/)\n",
    "- [panel](https://panel.holoviz.org/)\n",
    "- [voila](https://voila.readthedocs.io/en/stable/)\n",
    "- [streamlit](https://docs.streamlit.io/)\n",
    "- [H2O Wave](https://docs.h2o.ai/h2o_wave/index.html)\n",
    "- [reacton, solara](https://solara.dev/)\n",
    "- [mercury](https://runmercury.com/docs/)\n",
    "- [ipyflow - reaktívny Python kernel pre Jupyter](https://github.com/ipyflow/ipyflow)\n",
    "- [**marimo**](https://docs.marimo.io/index.html)"
   ]
  },
  {
   "cell_type": "markdown",
   "id": "7eaed053-5f53-4269-a22a-b2409d9bf260",
   "metadata": {
    "editable": true,
    "slideshow": {
     "slide_type": "slide"
    },
    "tags": []
   },
   "source": [
    "### [Reddit, prvé oznámenie o marimo, 8. jan. 2024](https://www.reddit.com/r/MachineLearning/comments/191rdwq/p_i_built_marimo_an_opensource_reactive_python/)\n",
    "\n",
    "\n",
    "### [Hlavný autor: Akshay Agrawal](https://www.akshayagrawal.com/)\n",
    "### [Spoluautor: Myles Scolnick, na LinkedIn](https://www.linkedin.com/in/mscolnick/)\n",
    "#### Mladý chalan, má diabetes 1. typu, teraz pracuje na `marimo` naplno\n",
    "#### [Článok o ňom, predtým ako išiel na UC Berkeley](https://www.cbsnews.com/colorado/news/teenage-diabetic-works-to-find-cure/)"
   ]
  },
  {
   "cell_type": "markdown",
   "id": "89acbdb7-0a37-414b-bed5-8376f07e991c",
   "metadata": {},
   "source": [
    "### Prečo je dôležité poznať autorov? A aj intuícia...\n",
    "- #### Fernando Pérez - IPython, Jupyter [na wikipedii](https://en.wikipedia.org/wiki/Fernando_P%C3%A9rez_(software_developer)\n",
    "- #### John D. Hunter - Matplotlib, s Fernandom boli priatelia [wikipedia](https://en.wikipedia.org/wiki/John_D._Hunter)"
   ]
  },
  {
   "cell_type": "markdown",
   "id": "49b5a1ed-a060-4a7e-9273-07e94e584ceb",
   "metadata": {
    "editable": true,
    "slideshow": {
     "slide_type": "slide"
    },
    "tags": []
   },
   "source": [
    "### V čom nám môže marimo pomôcť:\n",
    "- vytvorené od piky, bez závislosti na ipywidgets a jupyteri, ľahká váha :)\n",
    "- reaktívny notebook, grafické prvky nepotrebujú callbacks, bindings, ...\n",
    "- závislosť buniek je ošetrená, keď niečo zmeníme v bunke, vykonajú (aktualizujú) sa bunky na nej závislé\n",
    "- je to normálny python skript, na rozdiel od jupyter NB (ten je json)\n",
    "- dobre premyslený a minimalistický dizajn, všeobecnosť\n",
    "- ľahký prechod od panel aplikácii, konverzia Jupyter notebookov"
   ]
  },
  {
   "cell_type": "markdown",
   "id": "96344189-f8f1-49cc-a091-773e430ec543",
   "metadata": {
    "editable": true,
    "slideshow": {
     "slide_type": "slide"
    },
    "tags": []
   },
   "source": [
    "### V tejto prednáške ukážeme len principiálny rozdiel medzi Jupyter a marimo notebookmi. \n",
    "### Viac sa môžete dozvedieť a vyskúšať si marimo zajtra na workshope."
   ]
  }
 ],
 "metadata": {
  "kernelspec": {
   "display_name": "Python 3 (ipykernel)",
   "language": "python",
   "name": "python3"
  },
  "language_info": {
   "codemirror_mode": {
    "name": "ipython",
    "version": 3
   },
   "file_extension": ".py",
   "mimetype": "text/x-python",
   "name": "python",
   "nbconvert_exporter": "python",
   "pygments_lexer": "ipython3",
   "version": "3.11.9"
  }
 },
 "nbformat": 4,
 "nbformat_minor": 5
}
